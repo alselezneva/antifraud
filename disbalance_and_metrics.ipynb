{
 "cells": [
  {
   "cell_type": "markdown",
   "id": "c234c098",
   "metadata": {},
   "source": [
    "### Ссылки"
   ]
  },
  {
   "cell_type": "markdown",
   "id": "37cbc939",
   "metadata": {},
   "source": [
    "- https://habr.com/ru/company/ods/blog/328372/ \n",
    "- https://scikit-learn.org/stable/auto_examples/model_selection/plot_precision_recall.html\n",
    "- https://dyakonov.org/2021/05/27/imbalance/\n",
    "- https://loginom.ru/blog/imbalance-class\n",
    "- https://imbalanced-learn.org/stable/user_guide.html#user-guide\n",
    "- https://journalofbigdata.springeropen.com/articles/10.1186/s40537-019-0192-5\n",
    "- https://www.osp.ru/os/2017/02/13052223\n",
    "- https://towardsdatascience.com/protecting-your-money-detecting-credit-card-fraud-with-ml-dl-2c4a9b9a0779"
   ]
  },
  {
   "cell_type": "markdown",
   "id": "104728e9",
   "metadata": {},
   "source": [
    "- https://www.kaggle.com/datasets/mlg-ulb/creditcardfraud/code?datasetId=310&sortBy=voteCount"
   ]
  },
  {
   "cell_type": "markdown",
   "id": "ee78f491",
   "metadata": {},
   "source": [
    "### Загрузка библиотек "
   ]
  },
  {
   "cell_type": "markdown",
   "id": "4b8d83cf",
   "metadata": {},
   "source": [
    "    !pip install imblearn"
   ]
  },
  {
   "cell_type": "code",
   "execution_count": 1,
   "id": "9a6d2867",
   "metadata": {},
   "outputs": [],
   "source": [
    "import pandas as pd \n",
    "import numpy as np\n",
    "\n",
    "import itertools\n",
    "\n",
    "import seaborn as sns\n",
    "import matplotlib.pyplot as plt\n",
    "%matplotlib inline \n"
   ]
  },
  {
   "cell_type": "code",
   "execution_count": 2,
   "id": "11bb0c8a",
   "metadata": {},
   "outputs": [],
   "source": [
    "from imblearn.over_sampling import RandomOverSampler\n",
    "from imblearn.over_sampling import SMOTE\n",
    "from imblearn.over_sampling import ADASYN\n",
    "from imblearn.over_sampling import BorderlineSMOTE \n",
    "\n",
    "from imblearn.under_sampling import RandomUnderSampler\n",
    "from imblearn.under_sampling import NearMiss\n",
    "from imblearn.under_sampling import TomekLinks\n",
    "from imblearn.under_sampling import EditedNearestNeighbours\n"
   ]
  },
  {
   "cell_type": "code",
   "execution_count": 3,
   "id": "62850cee",
   "metadata": {},
   "outputs": [],
   "source": [
    "from sklearn import datasets\n",
    "\n",
    "from sklearn.model_selection import train_test_split\n",
    "from sklearn.model_selection import cross_val_predict\n",
    "\n",
    "from sklearn.metrics import accuracy_score\n",
    "from sklearn.metrics import balanced_accuracy_score\n",
    "from sklearn.metrics import cohen_kappa_score\n",
    "from sklearn.metrics import f1_score\n",
    "from sklearn.metrics import log_loss\n",
    "from sklearn.metrics import matthews_corrcoef\n",
    "from sklearn.metrics import roc_auc_score\n",
    "from sklearn.metrics import average_precision_score\n",
    "from sklearn.metrics import recall_score\n",
    "from sklearn.metrics import precision_score\n",
    "\n",
    "from sklearn.metrics import precision_recall_curve\n",
    "from sklearn.metrics import roc_curve\n",
    "from sklearn.metrics import confusion_matrix\n",
    "from sklearn.metrics import PrecisionRecallDisplay\n",
    "\n",
    "from sklearn.linear_model import LogisticRegression\n"
   ]
  },
  {
   "cell_type": "markdown",
   "id": "20430c29",
   "metadata": {},
   "source": [
    " "
   ]
  },
  {
   "cell_type": "markdown",
   "id": "53696afb",
   "metadata": {},
   "source": [
    "### Загрузка датасета"
   ]
  },
  {
   "cell_type": "code",
   "execution_count": 4,
   "id": "ed52ecd1",
   "metadata": {},
   "outputs": [],
   "source": [
    "data = datasets.load_breast_cancer()\n",
    " \n",
    "    \n",
    "X = pd.DataFrame(data.data, columns=data.feature_names)\n",
    "y = data.target\n"
   ]
  },
  {
   "cell_type": "code",
   "execution_count": 5,
   "id": "52221df8",
   "metadata": {},
   "outputs": [],
   "source": [
    "X_train, X_test, y_train, y_test = train_test_split(X, y, stratify=y,  test_size=0.33, random_state=42)\n",
    "\n",
    "classifier = LogisticRegression(random_state=42, solver='lbfgs', max_iter=10000)\n",
    "classifier_w = LogisticRegression(class_weight='balanced', random_state=42, solver='lbfgs', max_iter=10000)\n"
   ]
  },
  {
   "cell_type": "code",
   "execution_count": 6,
   "id": "987be3cf",
   "metadata": {},
   "outputs": [],
   "source": [
    "# from sklearn.preprocessing import StandardScaler\n",
    "\n",
    "# scaler = StandardScaler()\n",
    "\n",
    "# X_train = pd.DataFrame(scaler.fit_transform(X_train.values), columns=X_train.columns)\n",
    "# X_test = pd.DataFrame(scaler.fit_transform(X_test.values), columns=X_train.columns)"
   ]
  },
  {
   "cell_type": "markdown",
   "id": "f9691aa6",
   "metadata": {},
   "source": [
    " "
   ]
  },
  {
   "cell_type": "markdown",
   "id": "fa8b69ba",
   "metadata": {},
   "source": [
    "### Метрики"
   ]
  },
  {
   "cell_type": "markdown",
   "id": "dcb92f4d",
   "metadata": {},
   "source": [
    "Метрики и данные с несбалансированными классами\n",
    "\n",
    "- **Accuracy** и **Error rate** являются наиболее часто используемыми показателями при оценке результатов классификации. Однако при работе с классовым дисбалансом и того, и другого недостаточно, поскольку в результирующем значении доминирует группа большинства.\n",
    "\n",
    "\n",
    "- **Precision** измеряет процент положительно помеченных образцов, которые на самом деле являются положительными. Precision чувствительна к дисбалансу классов, поскольку она учитывает количество отрицательных выборок, неправильно помеченных как положительные. Однако одной точности недостаточно, поскольку она не дает представления о количестве образцов из положительной группы, которые были ошибочно помечены как отрицательные. \n",
    "\n",
    "\n",
    "- **Recall** или **True Positive Rate (TPR)**, измеряет процент положительной группы, которая была правильно предсказана моделью как положительная. Recall не зависит от дисбаланса, потому что он зависит только от позитивной группы. Recall не учитывает количество отрицательных выборок, которые ошибочно классифицированы как положительные, что может быть проблематично в задачах, содержащих несбалансированные по классам данные со многими отрицательными выборками. \n",
    "\n",
    "\n",
    "- **Selectivity** или **True Negative Rate (TNR)**, измеряет процент отрицательной группы, которая была правильно предсказана как отрицательная. **F-Measure** или **F1-score**, сочетает в себе точность и отзыв, используя среднее гармоническое значение, где коэффициент β используется для настройки относительной важности точности по сравнению с отзывом. **G-Mean** измеряет производительность путем объединения показателей TPR и TNR с использованием квадратного корня из их произведения. \n",
    "\n",
    "\n",
    "- **G-Mean**, **Balanced Accuracy** метрика также объединяет значения TPR и TNR для вычисления метрики, которая более чувствительна к группе меньшинств. Хотя F-мера, G-Mean, Balanced Accuracy являются улучшениями по сравнению с точностью и частотой ошибок, они все еще не совсем эффективны при сравнении производительности между классификаторами и различными распределениями \n",
    "\n",
    "\n",
    "- **Receiver operating characteristics (ROC) curve** отображает истинную положительную частоту по сравнению с ложноположительной частотой, создавая визуализацию, которая отображает компромисс между правильно классифицированными положительными образцами и неправильно классифицированными отрицательными образцами. Для моделей, которые создают непрерывные вероятности, пороговое значение может быть использовано для создания ряда точек вдоль пространства ROC. Исходя из этого, можно вычислить единую сводную метрику - площадь под кривой ROC (AUC) , которая часто используется для сравнения производительности между моделями. \n",
    "\n",
    "\n",
    "- Однако кривые ROC могут давать чрезмерно оптимистичные результаты при сильно искаженных наборах данных, и вместо этого следует использовать **Precision–Recall (PR) curves**. Авторы утверждают, что кривая может доминировать в пространстве ROC только в том случае, если она также доминирует в пространстве PR. Это оправдано тем фактом, что ложноположительный показатель, используемый ROC, FPR = FP/(FP+TN) , будет менее чувствителен к изменениям в FP по мере роста размера отрицательного класса. \n",
    "\n",
    "\n",
    "- **Статистика Каппа Коэна** выражает уровень согласия между двумя классами, принимает значение от -1 до 1. Максимальное значение означает полное согласие; ноль или меньше означает случайное согласие.  \n",
    "\n",
    "https://scikit-learn.org/stable/modules/generated/sklearn.metrics.cohen_kappa_score.html\n",
    "\n",
    "https://en.wikipedia.org/wiki/Cohen%27s_kappa\n",
    "\n",
    "\n",
    "- **Коэффициент Мэттьюса** учитывает истинные и ложные положительные и отрицательные результаты и обычно рассматривается как сбалансированная мера,которая может быть использована даже в том случае,если классы имеют очень разные размеры. По сути это коэффициент корреляции между -1 и +1, где +1 представляет собой идеальное предсказание,0-среднее случайное предсказание и -1-обратное предсказание.\n",
    "\n",
    "https://scikit-learn.org/stable/modules/generated/sklearn.metrics.matthews_corrcoef.html\n"
   ]
  },
  {
   "cell_type": "markdown",
   "id": "410c4fc8",
   "metadata": {},
   "source": [
    " "
   ]
  },
  {
   "cell_type": "markdown",
   "id": "1497ac3c",
   "metadata": {},
   "source": [
    "### Методы"
   ]
  },
  {
   "cell_type": "markdown",
   "id": "753e06c8",
   "metadata": {},
   "source": [
    "Методы для работы с несбалансированными классами\n",
    "\n",
    "- Воспользоваться встроенной функцию весов class_weight=’balanced’ \n",
    "\n",
    "\n",
    "- Подобрать оптимальный порог. Обычно модель получает некоторые оценки принадлежности к классам, а сама классификация – это результат бинаризации (по умолчанию порог = 0.5) \n",
    "\n",
    "\n",
    "- - - - \n",
    "\n",
    "- **Random Oversampling** – стратегия пересэмплирования, при которой рандомно дублируются объекты класса меньшинства.\n",
    "\n",
    "\n",
    "- **Synthetic Minority Oversampling Techniques (SMOTE)** – стратегия пересэмплирования, при которой происходит увеличение класса меньшинства за счёт представителей выпуклых комбинаций пар. В методе SMOTE для точки малого класса выбирается один из k ближайших соседей и на отрезке между ними случайно выбирается новый объект.\n",
    "\n",
    "\n",
    "- **Borderline SMOTE** – https://sci2s.ugr.es/keel/pdf/specific/congreso/han_borderline_smote.pdf \n",
    "\n",
    "\n",
    "- **Adaptive Synthetic (ADASYN)** – метод аналогичен SMOTE, но число объектов, которые генерируются с помощью объекта класса меньшинства, пропорционально числу чужаков (объектов класса большинства) в его окрестности.\n",
    "\n",
    "- - - \n",
    "\n",
    "- **Random Undersampling** – стратегия недосэмплирования, при которой верется случайная подвыборка. \n",
    "\n",
    "\n",
    "- **NearMiss1** – стратегия, при которой из класса большинства выбираются объекты, у которых среднее расстояний до N ближайших малого класса наименьшее, т.е. из граничной зоны.\n",
    "\n",
    "\n",
    "- **NearMiss2** – стратегия, при которой из большего класса выбираются объекты, у которых среднее расстояний до N дальних малого класса наименьшее.\n",
    "\n",
    "\n",
    "- **TomekLinks** – стратегия, при которой удаляются объекты класса большинства, образующие связи Томека (объекты двух разных классов образуют связь Томека, если нет объекта, который ближе к одному из них при этом являясь объектом другого класса) (не гарантируется выравнивание классов по мощности)\n",
    "\n",
    "\n",
    "- **ENNs** – скользящий контроль, например по 10 фолдам, при котором удаляются объекты класса большинства, на которых ближайший сосед ошибается (не гарантируется выравнивание классов по мощности) "
   ]
  },
  {
   "cell_type": "markdown",
   "id": "538d504a",
   "metadata": {},
   "source": [
    " "
   ]
  },
  {
   "cell_type": "markdown",
   "id": "f5ae6c71",
   "metadata": {},
   "source": [
    "### Функции"
   ]
  },
  {
   "cell_type": "markdown",
   "id": "fd95b615",
   "metadata": {},
   "source": [
    "#### Confusion matrix"
   ]
  },
  {
   "cell_type": "code",
   "execution_count": 7,
   "id": "f43b06d6",
   "metadata": {},
   "outputs": [],
   "source": [
    "def plot_confusion_matrix(classifier, \n",
    "                          classes=['0', '1'],\n",
    "                          normalize=False,\n",
    "                          title='Confusion matrix',\n",
    "                          cmap=plt.cm.Blues, \n",
    "                          X_test=X_test, \n",
    "                          y_test=y_test):\n",
    "    \"\"\"\n",
    "    This function prints and plots the confusion matrix.\n",
    "    Normalization can be applied by setting `normalize=True`.\n",
    "    \"\"\"\n",
    "    \n",
    "    \n",
    "    cm = confusion_matrix(y_test, classifier.predict(X_test))\n",
    "    plt.figure(figsize=(5, 4))\n",
    "    \n",
    "    plt.imshow(cm, interpolation='nearest', cmap=cmap)\n",
    "    plt.title(title)\n",
    "    plt.colorbar()\n",
    "    tick_marks = np.arange(len(classes))\n",
    "    plt.xticks(tick_marks, classes, rotation=45)\n",
    "    plt.yticks(tick_marks, classes)\n",
    "\n",
    "    if normalize:\n",
    "        cm = cm.astype('float') / cm.sum(axis=1)[:, np.newaxis]\n",
    "        print(\"Normalized confusion matrix\")\n",
    "    else:\n",
    "        print('Confusion matrix, without normalization')\n",
    "\n",
    "    print(cm)\n",
    "\n",
    "    thresh = cm.max() / 2.\n",
    "    for i, j in itertools.product(range(cm.shape[0]), range(cm.shape[1])):\n",
    "        plt.text(j, i, cm[i, j],\n",
    "                 horizontalalignment=\"center\",\n",
    "                 color=\"white\" if cm[i, j] > thresh else \"black\")\n",
    "\n",
    "    plt.tight_layout()\n",
    "    plt.ylabel('True label')\n",
    "    plt.xlabel('Predicted label')\n",
    "\n",
    "    font = {'size' : 8}\n",
    "\n",
    "    plt.rc('font', **font)\n",
    "    plt.show()"
   ]
  },
  {
   "cell_type": "markdown",
   "id": "6a2bf871",
   "metadata": {},
   "source": [
    " "
   ]
  },
  {
   "cell_type": "markdown",
   "id": "70edb2f4",
   "metadata": {},
   "source": [
    "#### ROC curve "
   ]
  },
  {
   "cell_type": "code",
   "execution_count": 8,
   "id": "746e15c3",
   "metadata": {},
   "outputs": [],
   "source": [
    "def plot_roc_curve(classifiers):\n",
    "    \n",
    "    plt.figure(figsize=(5, 4))\n",
    "\n",
    "    for i in classifiers.keys():\n",
    "        fpr, tpr, thresholds = roc_curve(y_test, classifiers[i].predict_proba(X_test)[:,1], pos_label=1)\n",
    "        plt.plot(fpr, tpr, label= i)\n",
    "\n",
    "    plt.legend(fontsize=8)\n",
    "    plt.plot([0, 1], [0, 1])\n",
    "    plt.xlim([-0.05, 1.0])\n",
    "    plt.ylim([0.0, 1.05])\n",
    "    plt.xlabel('False Positive Rate')\n",
    "    plt.ylabel('True Positive Rate')\n",
    "    plt.title('ROC curve')\n",
    "#     plt.savefig(\"ROC.png\")\n",
    "    plt.show()\n"
   ]
  },
  {
   "cell_type": "markdown",
   "id": "103f5a27",
   "metadata": {},
   "source": [
    " "
   ]
  },
  {
   "cell_type": "markdown",
   "id": "7b1f1c00",
   "metadata": {},
   "source": [
    "#### Precision-Recall"
   ]
  },
  {
   "cell_type": "code",
   "execution_count": 9,
   "id": "6c9b7577",
   "metadata": {},
   "outputs": [],
   "source": [
    "def plot_precision_recall(classifiers, X_test=X_test, y_test=y_test):\n",
    "    \n",
    "    _, ax = plt.subplots(figsize=(5, 4))\n",
    "\n",
    "    for i in classifiers:\n",
    "        y_score = classifiers[i].decision_function(X_test)\n",
    "        precision, recall, _ = precision_recall_curve(y_test, y_score)\n",
    "#         average_precision = average_precision_score(y_test, y_score)\n",
    "\n",
    "        display = PrecisionRecallDisplay(\n",
    "            recall=recall,\n",
    "            precision=precision, \n",
    "#             average_precision=average_precision, \n",
    "        )\n",
    "        display.plot(ax=ax, name=i)\n",
    "\n",
    "    _ = display.ax_.set_title(\"2-class Precision-Recall curve\")\n"
   ]
  },
  {
   "cell_type": "markdown",
   "id": "da743375",
   "metadata": {},
   "source": [
    " "
   ]
  },
  {
   "cell_type": "markdown",
   "id": "08034b1f",
   "metadata": {},
   "source": [
    "#### Подбор порога"
   ]
  },
  {
   "cell_type": "code",
   "execution_count": 10,
   "id": "7d277617",
   "metadata": {},
   "outputs": [],
   "source": [
    "def investigate_model(classifier, X_train=X_train, y_train=y_train, cv=10, X_test=X_test, y_test=y_test):\n",
    "\n",
    "    df = pd.DataFrame(index=['train0', 'test0', 'train', 'test', 'theta'])\n",
    "    \n",
    "    scores0 = [recall_score, precision_score] \n",
    "    scores1 = [accuracy_score, balanced_accuracy_score, cohen_kappa_score, f1_score, matthews_corrcoef]\n",
    "    scores2 = [log_loss, roc_auc_score, average_precision_score]\n",
    "    \n",
    "    X_train_cv = cross_val_predict(classifier, X_train, y_train, cv=cv, method='predict_proba')[:,1]\n",
    "    \n",
    "    X_train_prob = classifier.predict_proba(X_train)[:,1]\n",
    "    X_train_pred = classifier.predict(X_train)\n",
    "    \n",
    "    X_test_prob = classifier.predict_proba(X_test)[:,1]\n",
    "    X_test_pred = classifier.predict(X_test)\n",
    "    \n",
    "    # найдем порог\n",
    "    thetas = np.linspace(0, 1, 101)\n",
    "    \n",
    "    average = 'macro'\n",
    "    \n",
    "    for score in scores0:\n",
    "        score_list = np.array([score(y_train, X_train_prob > theta, average=average, zero_division=0) for theta in thetas])\n",
    "        i = np.argmax(score_list)\n",
    "        df[score.__name__] = [score(y_test, X_test_pred, average=average, zero_division=0), \n",
    "                              score(y_test, X_test_pred, average=average, zero_division=0), \n",
    "                              score_list[i], \n",
    "                              score(y_test, X_test_prob > thetas[i], average=average, zero_division=0), \n",
    "                              thetas[i]]\n",
    "        \n",
    "    for score in scores1:\n",
    "        score_list = np.array([score(y_train, X_train_prob > theta) for theta in thetas])\n",
    "        i = np.argmax(score_list)\n",
    "        df[score.__name__] = [score(y_test, X_test_pred), \n",
    "                              score(y_test, X_test_pred), \n",
    "                              score_list[i], \n",
    "                              score(y_test, X_test_prob > thetas[i]), \n",
    "                              thetas[i]]\n",
    "\n",
    "    for score in scores2:\n",
    "        df[score.__name__] = [score(y_train, X_train_prob), \n",
    "                              score(y_test, X_test_prob), \n",
    "                              score(y_train, X_train_cv),\n",
    "                              score(y_test, X_test_prob), \n",
    "                              np.nan]\n",
    "    return df\n"
   ]
  },
  {
   "cell_type": "markdown",
   "id": "a2e7ab6b",
   "metadata": {},
   "source": [
    " "
   ]
  },
  {
   "cell_type": "markdown",
   "id": "776f1117",
   "metadata": {},
   "source": [
    "#### Статистика"
   ]
  },
  {
   "cell_type": "code",
   "execution_count": 11,
   "id": "53a018a9",
   "metadata": {},
   "outputs": [],
   "source": [
    "def make_statistics(classifier, X_train=X_train, y_train=y_train, X_test=X_test, y_test=y_test):\n",
    "\n",
    "    df = pd.DataFrame(index=['train', 'test'])\n",
    "    \n",
    "    X_train_prob = classifier.predict_proba(X_train)[:, 1]\n",
    "    X_train_pred = classifier.predict(X_train)\n",
    "    \n",
    "    X_test_prob = classifier.predict_proba(X_test)[:, 1]\n",
    "    X_test_pred = classifier.predict(X_test)\n",
    "    \n",
    "    scores0 = [recall_score, precision_score] \n",
    "    scores1 = [accuracy_score, balanced_accuracy_score, cohen_kappa_score, f1_score, matthews_corrcoef]\n",
    "    scores2 = [log_loss, roc_auc_score, average_precision_score] \n",
    "    \n",
    "    average = 'macro'\n",
    "    \n",
    "    for score in scores0:\n",
    "        df[score.__name__] = [score(y_train, X_train_pred, average=average, zero_division=0), \n",
    "                              score(y_test, X_test_pred, average=average, zero_division=0)]\n",
    "    \n",
    "    for score in scores1:\n",
    "        df[score.__name__] = [score(y_train, X_train_pred), \n",
    "                              score(y_test, X_test_pred)]\n",
    "        \n",
    "    for score in scores2:\n",
    "        df[score.__name__] = [score(y_train, X_train_prob), \n",
    "                              score(y_test, X_test_prob)]\n",
    "    \n",
    "    return df\n"
   ]
  },
  {
   "cell_type": "markdown",
   "id": "f221d708",
   "metadata": {},
   "source": [
    " "
   ]
  },
  {
   "cell_type": "markdown",
   "id": "78ec50e0",
   "metadata": {},
   "source": [
    "#### Итоговая таблица"
   ]
  },
  {
   "cell_type": "code",
   "execution_count": 12,
   "id": "9673c65d",
   "metadata": {
    "scrolled": false
   },
   "outputs": [],
   "source": [
    "def report(X_train, y_train, X_test, y_test, classifier, classifier_w=None, random_state=55): \n",
    "    \n",
    "    keys = ['Base', 'Base+ threshold', \n",
    "            'RandomOS', 'Borderline SMOTE', 'SMOTE', 'ADASYN', \n",
    "            'RandomUS', 'NearMiss1', 'NearMiss2', 'TomekLinks', 'ENNs']\n",
    "\n",
    "    classifiers = {}\n",
    "    \n",
    "    print('----------------- DataSet -----------------\\n')\n",
    "    print(f'X train shape: {X_train.shape[0]}       y train mean: {y_train.mean():.2f}')\n",
    "    print(f'X test shape: {X_test.shape[0]}        y test mean: {y_test.mean():.2f}')\n",
    "\n",
    "    dfs = [] # итоговая таблица\n",
    "\n",
    "    classifier.fit(X_train, y_train)\n",
    "    \n",
    "    # Датасет\n",
    "    dfs.append(make_statistics(classifier))\n",
    "    classifiers['Base'] = classifier\n",
    "    \n",
    "    # Датасет + порог \n",
    "    dfs.append(investigate_model(classifier))\n",
    "    classifiers['Base_threshold'] = classifier\n",
    "    \n",
    "    if classifier_w: \n",
    "        \n",
    "        classifier_w.fit(X_train, y_train)\n",
    "        \n",
    "        keys = ['Base', 'Base+ threshold', 'Weights', 'Weights+ threshold',\n",
    "                'RandomOS', 'Borderline SMOTE', 'SMOTE', 'ADASYN', \n",
    "                'RandomUS', 'NearMiss1', 'NearMiss2', 'TomekLinks', 'ENNs']\n",
    "\n",
    "        # Датасет с параметром \"баланс классов\" \n",
    "        dfs.append(make_statistics(classifier_w))\n",
    "        classifiers['Balanced'] = classifier    \n",
    "        \n",
    "        # Датасет с параметром \"баланс классов\" + порог \n",
    "        dfs.append(investigate_model(classifier_w))\n",
    "        classifiers['Balanced_threshold'] = classifier\n",
    "\n",
    "    \n",
    "    print('\\n\\n----------- Oversampling methods -----------')\n",
    "    techniques = [RandomOverSampler(random_state=random_state),\n",
    "                  BorderlineSMOTE(k_neighbors=10, random_state=random_state),\n",
    "                  SMOTE(random_state=random_state),\n",
    "                  ADASYN(random_state=random_state)]\n",
    "\n",
    "    for sampler in techniques:\n",
    "        technique = sampler.__class__.__name__\n",
    "        X_resampled, y_resampled = sampler.fit_resample(X_train, y_train)\n",
    "        classifier.fit(X_resampled, y_resampled)\n",
    "        dfs.append(make_statistics(classifier, X_train=X_resampled, y_train=y_resampled))\n",
    "        classifiers[sampler.__class__.__name__] = classifier\n",
    "        print(f'\\nTechnique: {technique}')\n",
    "        print(f'X train shape: {X_resampled.shape[0]}       y train mean: {y_resampled.mean():.2f} \\n')\n",
    "\n",
    "\n",
    "    print('\\n\\n----------- Undersampling methods -----------')\n",
    "    techniques = [RandomUnderSampler(random_state=random_state),\n",
    "                  NearMiss(version=1),\n",
    "                  NearMiss(version=2),\n",
    "                  TomekLinks(),\n",
    "                  EditedNearestNeighbours()]\n",
    "\n",
    "    for sampler in techniques:\n",
    "        technique = sampler.__class__.__name__\n",
    "        X_resampled, y_resampled = sampler.fit_resample(X_train, y_train)\n",
    "        classifier.fit(X_resampled, y_resampled)\n",
    "        dfs.append(make_statistics(classifier, X_train=X_resampled, y_train=y_resampled))\n",
    "        classifiers[sampler.__class__.__name__] = classifier\n",
    "        print(f'\\nTechnique: {technique}')\n",
    "        print(f'X train shape: {X_resampled.shape[0]}       y train mean: {y_resampled.mean():.2f} \\n')\n",
    "    \n",
    "    \n",
    "    d = pd.concat([d.T['test'] for d in dfs], keys=keys, axis=1)\n",
    "    d.loc['log_loss',:] = -d.loc['log_loss',:]\n",
    "    d = d.rename(index={'log_loss':'$-$log_loss'})\n",
    "#     d.insert(3, 'theta1', dfs[2].T['theta'].round(3))\n",
    "#     d.insert(5, 'theta2', dfs[3].T['theta'].round(3))\n",
    "    \n",
    "    d = d.style.format(precision=6).highlight_max(axis=1, color='#FFDDDD')\n",
    "    \n",
    "    return classifiers, d"
   ]
  },
  {
   "cell_type": "markdown",
   "id": "132f8bab",
   "metadata": {},
   "source": [
    " "
   ]
  },
  {
   "cell_type": "markdown",
   "id": "1bc5d76b",
   "metadata": {},
   "source": [
    "### Main"
   ]
  },
  {
   "cell_type": "code",
   "execution_count": 13,
   "id": "5714652e",
   "metadata": {},
   "outputs": [
    {
     "name": "stdout",
     "output_type": "stream",
     "text": [
      "----------------- DataSet -----------------\n",
      "\n",
      "X train shape: 381       y train mean: 0.63\n",
      "X test shape: 188        y test mean: 0.63\n",
      "\n",
      "\n",
      "----------- Oversampling methods -----------\n",
      "\n",
      "Technique: RandomOverSampler\n",
      "X train shape: 478       y train mean: 0.50 \n",
      "\n",
      "\n",
      "Technique: BorderlineSMOTE\n",
      "X train shape: 478       y train mean: 0.50 \n",
      "\n",
      "\n",
      "Technique: SMOTE\n",
      "X train shape: 478       y train mean: 0.50 \n",
      "\n",
      "\n",
      "Technique: ADASYN\n",
      "X train shape: 473       y train mean: 0.51 \n",
      "\n",
      "\n",
      "\n",
      "----------- Undersampling methods -----------\n",
      "\n",
      "Technique: RandomUnderSampler\n",
      "X train shape: 284       y train mean: 0.50 \n",
      "\n",
      "\n",
      "Technique: NearMiss\n",
      "X train shape: 284       y train mean: 0.50 \n",
      "\n",
      "\n",
      "Technique: NearMiss\n",
      "X train shape: 284       y train mean: 0.50 \n",
      "\n",
      "\n",
      "Technique: TomekLinks\n",
      "X train shape: 373       y train mean: 0.62 \n",
      "\n",
      "\n",
      "Technique: EditedNearestNeighbours\n",
      "X train shape: 351       y train mean: 0.60 \n",
      "\n"
     ]
    },
    {
     "data": {
      "text/html": [
       "<style type=\"text/css\">\n",
       "#T_1964e_row0_col7, #T_1964e_row1_col3, #T_1964e_row2_col7, #T_1964e_row3_col7, #T_1964e_row4_col7, #T_1964e_row5_col7, #T_1964e_row6_col7, #T_1964e_row7_col2, #T_1964e_row7_col3, #T_1964e_row8_col7, #T_1964e_row9_col7 {\n",
       "  background-color: #FFDDDD;\n",
       "}\n",
       "</style>\n",
       "<table id=\"T_1964e_\">\n",
       "  <thead>\n",
       "    <tr>\n",
       "      <th class=\"blank level0\" >&nbsp;</th>\n",
       "      <th class=\"col_heading level0 col0\" >Base</th>\n",
       "      <th class=\"col_heading level0 col1\" >Base+ threshold</th>\n",
       "      <th class=\"col_heading level0 col2\" >Weights</th>\n",
       "      <th class=\"col_heading level0 col3\" >Weights+ threshold</th>\n",
       "      <th class=\"col_heading level0 col4\" >RandomOS</th>\n",
       "      <th class=\"col_heading level0 col5\" >Borderline SMOTE</th>\n",
       "      <th class=\"col_heading level0 col6\" >SMOTE</th>\n",
       "      <th class=\"col_heading level0 col7\" >ADASYN</th>\n",
       "      <th class=\"col_heading level0 col8\" >RandomUS</th>\n",
       "      <th class=\"col_heading level0 col9\" >NearMiss1</th>\n",
       "      <th class=\"col_heading level0 col10\" >NearMiss2</th>\n",
       "      <th class=\"col_heading level0 col11\" >TomekLinks</th>\n",
       "      <th class=\"col_heading level0 col12\" >ENNs</th>\n",
       "    </tr>\n",
       "  </thead>\n",
       "  <tbody>\n",
       "    <tr>\n",
       "      <th id=\"T_1964e_level0_row0\" class=\"row_heading level0 row0\" >recall_score</th>\n",
       "      <td id=\"T_1964e_row0_col0\" class=\"data row0 col0\" >0.934383</td>\n",
       "      <td id=\"T_1964e_row0_col1\" class=\"data row0 col1\" >0.934383</td>\n",
       "      <td id=\"T_1964e_row0_col2\" class=\"data row0 col2\" >0.948668</td>\n",
       "      <td id=\"T_1964e_row0_col3\" class=\"data row0 col3\" >0.934383</td>\n",
       "      <td id=\"T_1964e_row0_col4\" class=\"data row0 col4\" >0.923002</td>\n",
       "      <td id=\"T_1964e_row0_col5\" class=\"data row0 col5\" >0.938862</td>\n",
       "      <td id=\"T_1964e_row0_col6\" class=\"data row0 col6\" >0.941525</td>\n",
       "      <td id=\"T_1964e_row0_col7\" class=\"data row0 col7\" >0.961622</td>\n",
       "      <td id=\"T_1964e_row0_col8\" class=\"data row0 col8\" >0.930145</td>\n",
       "      <td id=\"T_1964e_row0_col9\" class=\"data row0 col9\" >0.934383</td>\n",
       "      <td id=\"T_1964e_row0_col10\" class=\"data row0 col10\" >0.934383</td>\n",
       "      <td id=\"T_1964e_row0_col11\" class=\"data row0 col11\" >0.948668</td>\n",
       "      <td id=\"T_1964e_row0_col12\" class=\"data row0 col12\" >0.930387</td>\n",
       "    </tr>\n",
       "    <tr>\n",
       "      <th id=\"T_1964e_level0_row1\" class=\"row_heading level0 row1\" >precision_score</th>\n",
       "      <td id=\"T_1964e_row1_col0\" class=\"data row1 col0\" >0.952117</td>\n",
       "      <td id=\"T_1964e_row1_col1\" class=\"data row1 col1\" >0.956221</td>\n",
       "      <td id=\"T_1964e_row1_col2\" class=\"data row1 col2\" >0.960258</td>\n",
       "      <td id=\"T_1964e_row1_col3\" class=\"data row1 col3\" >0.964567</td>\n",
       "      <td id=\"T_1964e_row1_col4\" class=\"data row1 col4\" >0.940272</td>\n",
       "      <td id=\"T_1964e_row1_col5\" class=\"data row1 col5\" >0.936379</td>\n",
       "      <td id=\"T_1964e_row1_col6\" class=\"data row1 col6\" >0.956160</td>\n",
       "      <td id=\"T_1964e_row1_col7\" class=\"data row1 col7\" >0.959010</td>\n",
       "      <td id=\"T_1964e_row1_col8\" class=\"data row1 col8\" >0.944403</td>\n",
       "      <td id=\"T_1964e_row1_col9\" class=\"data row1 col9\" >0.952117</td>\n",
       "      <td id=\"T_1964e_row1_col10\" class=\"data row1 col10\" >0.952117</td>\n",
       "      <td id=\"T_1964e_row1_col11\" class=\"data row1 col11\" >0.960258</td>\n",
       "      <td id=\"T_1964e_row1_col12\" class=\"data row1 col12\" >0.923466</td>\n",
       "    </tr>\n",
       "    <tr>\n",
       "      <th id=\"T_1964e_level0_row2\" class=\"row_heading level0 row2\" >accuracy_score</th>\n",
       "      <td id=\"T_1964e_row2_col0\" class=\"data row2 col0\" >0.946809</td>\n",
       "      <td id=\"T_1964e_row2_col1\" class=\"data row2 col1\" >0.946809</td>\n",
       "      <td id=\"T_1964e_row2_col2\" class=\"data row2 col2\" >0.957447</td>\n",
       "      <td id=\"T_1964e_row2_col3\" class=\"data row2 col3\" >0.946809</td>\n",
       "      <td id=\"T_1964e_row2_col4\" class=\"data row2 col4\" >0.936170</td>\n",
       "      <td id=\"T_1964e_row2_col5\" class=\"data row2 col5\" >0.941489</td>\n",
       "      <td id=\"T_1964e_row2_col6\" class=\"data row2 col6\" >0.952128</td>\n",
       "      <td id=\"T_1964e_row2_col7\" class=\"data row2 col7\" >0.962766</td>\n",
       "      <td id=\"T_1964e_row2_col8\" class=\"data row2 col8\" >0.941489</td>\n",
       "      <td id=\"T_1964e_row2_col9\" class=\"data row2 col9\" >0.946809</td>\n",
       "      <td id=\"T_1964e_row2_col10\" class=\"data row2 col10\" >0.946809</td>\n",
       "      <td id=\"T_1964e_row2_col11\" class=\"data row2 col11\" >0.957447</td>\n",
       "      <td id=\"T_1964e_row2_col12\" class=\"data row2 col12\" >0.930851</td>\n",
       "    </tr>\n",
       "    <tr>\n",
       "      <th id=\"T_1964e_level0_row3\" class=\"row_heading level0 row3\" >balanced_accuracy_score</th>\n",
       "      <td id=\"T_1964e_row3_col0\" class=\"data row3 col0\" >0.934383</td>\n",
       "      <td id=\"T_1964e_row3_col1\" class=\"data row3 col1\" >0.934383</td>\n",
       "      <td id=\"T_1964e_row3_col2\" class=\"data row3 col2\" >0.948668</td>\n",
       "      <td id=\"T_1964e_row3_col3\" class=\"data row3 col3\" >0.934383</td>\n",
       "      <td id=\"T_1964e_row3_col4\" class=\"data row3 col4\" >0.923002</td>\n",
       "      <td id=\"T_1964e_row3_col5\" class=\"data row3 col5\" >0.938862</td>\n",
       "      <td id=\"T_1964e_row3_col6\" class=\"data row3 col6\" >0.941525</td>\n",
       "      <td id=\"T_1964e_row3_col7\" class=\"data row3 col7\" >0.961622</td>\n",
       "      <td id=\"T_1964e_row3_col8\" class=\"data row3 col8\" >0.930145</td>\n",
       "      <td id=\"T_1964e_row3_col9\" class=\"data row3 col9\" >0.934383</td>\n",
       "      <td id=\"T_1964e_row3_col10\" class=\"data row3 col10\" >0.934383</td>\n",
       "      <td id=\"T_1964e_row3_col11\" class=\"data row3 col11\" >0.948668</td>\n",
       "      <td id=\"T_1964e_row3_col12\" class=\"data row3 col12\" >0.930387</td>\n",
       "    </tr>\n",
       "    <tr>\n",
       "      <th id=\"T_1964e_level0_row4\" class=\"row_heading level0 row4\" >cohen_kappa_score</th>\n",
       "      <td id=\"T_1964e_row4_col0\" class=\"data row4 col0\" >0.884179</td>\n",
       "      <td id=\"T_1964e_row4_col1\" class=\"data row4 col1\" >0.883490</td>\n",
       "      <td id=\"T_1964e_row4_col2\" class=\"data row4 col2\" >0.907888</td>\n",
       "      <td id=\"T_1964e_row4_col3\" class=\"data row4 col3\" >0.884179</td>\n",
       "      <td id=\"T_1964e_row4_col4\" class=\"data row4 col4\" >0.861015</td>\n",
       "      <td id=\"T_1964e_row4_col5\" class=\"data row4 col5\" >0.875181</td>\n",
       "      <td id=\"T_1964e_row4_col6\" class=\"data row4 col6\" >0.896069</td>\n",
       "      <td id=\"T_1964e_row4_col7\" class=\"data row4 col7\" >0.920570</td>\n",
       "      <td id=\"T_1964e_row4_col8\" class=\"data row4 col8\" >0.872973</td>\n",
       "      <td id=\"T_1964e_row4_col9\" class=\"data row4 col9\" >0.884179</td>\n",
       "      <td id=\"T_1964e_row4_col10\" class=\"data row4 col10\" >0.884179</td>\n",
       "      <td id=\"T_1964e_row4_col11\" class=\"data row4 col11\" >0.907888</td>\n",
       "      <td id=\"T_1964e_row4_col12\" class=\"data row4 col12\" >0.853337</td>\n",
       "    </tr>\n",
       "    <tr>\n",
       "      <th id=\"T_1964e_level0_row5\" class=\"row_heading level0 row5\" >f1_score</th>\n",
       "      <td id=\"T_1964e_row5_col0\" class=\"data row5 col0\" >0.958678</td>\n",
       "      <td id=\"T_1964e_row5_col1\" class=\"data row5 col1\" >0.959016</td>\n",
       "      <td id=\"T_1964e_row5_col2\" class=\"data row5 col2\" >0.966667</td>\n",
       "      <td id=\"T_1964e_row5_col3\" class=\"data row5 col3\" >0.959016</td>\n",
       "      <td id=\"T_1964e_row5_col4\" class=\"data row5 col4\" >0.950413</td>\n",
       "      <td id=\"T_1964e_row5_col5\" class=\"data row5 col5\" >0.953191</td>\n",
       "      <td id=\"T_1964e_row5_col6\" class=\"data row5 col6\" >0.962656</td>\n",
       "      <td id=\"T_1964e_row5_col7\" class=\"data row5 col7\" >0.970213</td>\n",
       "      <td id=\"T_1964e_row5_col8\" class=\"data row5 col8\" >0.954357</td>\n",
       "      <td id=\"T_1964e_row5_col9\" class=\"data row5 col9\" >0.958678</td>\n",
       "      <td id=\"T_1964e_row5_col10\" class=\"data row5 col10\" >0.958678</td>\n",
       "      <td id=\"T_1964e_row5_col11\" class=\"data row5 col11\" >0.966667</td>\n",
       "      <td id=\"T_1964e_row5_col12\" class=\"data row5 col12\" >0.944206</td>\n",
       "    </tr>\n",
       "    <tr>\n",
       "      <th id=\"T_1964e_level0_row6\" class=\"row_heading level0 row6\" >matthews_corrcoef</th>\n",
       "      <td id=\"T_1964e_row6_col0\" class=\"data row6 col0\" >0.886322</td>\n",
       "      <td id=\"T_1964e_row6_col1\" class=\"data row6 col1\" >0.887353</td>\n",
       "      <td id=\"T_1964e_row6_col2\" class=\"data row6 col2\" >0.908853</td>\n",
       "      <td id=\"T_1964e_row6_col3\" class=\"data row6 col3\" >0.886322</td>\n",
       "      <td id=\"T_1964e_row6_col4\" class=\"data row6 col4\" >0.863102</td>\n",
       "      <td id=\"T_1964e_row6_col5\" class=\"data row6 col5\" >0.875237</td>\n",
       "      <td id=\"T_1964e_row6_col6\" class=\"data row6 col6\" >0.897566</td>\n",
       "      <td id=\"T_1964e_row6_col7\" class=\"data row6 col7\" >0.920629</td>\n",
       "      <td id=\"T_1964e_row6_col8\" class=\"data row6 col8\" >0.874432</td>\n",
       "      <td id=\"T_1964e_row6_col9\" class=\"data row6 col9\" >0.886322</td>\n",
       "      <td id=\"T_1964e_row6_col10\" class=\"data row6 col10\" >0.886322</td>\n",
       "      <td id=\"T_1964e_row6_col11\" class=\"data row6 col11\" >0.908853</td>\n",
       "      <td id=\"T_1964e_row6_col12\" class=\"data row6 col12\" >0.853826</td>\n",
       "    </tr>\n",
       "    <tr>\n",
       "      <th id=\"T_1964e_level0_row7\" class=\"row_heading level0 row7\" >$-$log_loss</th>\n",
       "      <td id=\"T_1964e_row7_col0\" class=\"data row7 col0\" >-0.119440</td>\n",
       "      <td id=\"T_1964e_row7_col1\" class=\"data row7 col1\" >-0.119440</td>\n",
       "      <td id=\"T_1964e_row7_col2\" class=\"data row7 col2\" >-0.111800</td>\n",
       "      <td id=\"T_1964e_row7_col3\" class=\"data row7 col3\" >-0.111800</td>\n",
       "      <td id=\"T_1964e_row7_col4\" class=\"data row7 col4\" >-0.116631</td>\n",
       "      <td id=\"T_1964e_row7_col5\" class=\"data row7 col5\" >-0.150871</td>\n",
       "      <td id=\"T_1964e_row7_col6\" class=\"data row7 col6\" >-0.123161</td>\n",
       "      <td id=\"T_1964e_row7_col7\" class=\"data row7 col7\" >-0.113707</td>\n",
       "      <td id=\"T_1964e_row7_col8\" class=\"data row7 col8\" >-0.119567</td>\n",
       "      <td id=\"T_1964e_row7_col9\" class=\"data row7 col9\" >-0.119063</td>\n",
       "      <td id=\"T_1964e_row7_col10\" class=\"data row7 col10\" >-0.117596</td>\n",
       "      <td id=\"T_1964e_row7_col11\" class=\"data row7 col11\" >-0.117363</td>\n",
       "      <td id=\"T_1964e_row7_col12\" class=\"data row7 col12\" >-0.149864</td>\n",
       "    </tr>\n",
       "    <tr>\n",
       "      <th id=\"T_1964e_level0_row8\" class=\"row_heading level0 row8\" >roc_auc_score</th>\n",
       "      <td id=\"T_1964e_row8_col0\" class=\"data row8 col0\" >0.988136</td>\n",
       "      <td id=\"T_1964e_row8_col1\" class=\"data row8 col1\" >0.988136</td>\n",
       "      <td id=\"T_1964e_row8_col2\" class=\"data row8 col2\" >0.989467</td>\n",
       "      <td id=\"T_1964e_row8_col3\" class=\"data row8 col3\" >0.989467</td>\n",
       "      <td id=\"T_1964e_row8_col4\" class=\"data row8 col4\" >0.990436</td>\n",
       "      <td id=\"T_1964e_row8_col5\" class=\"data row8 col5\" >0.983535</td>\n",
       "      <td id=\"T_1964e_row8_col6\" class=\"data row8 col6\" >0.986683</td>\n",
       "      <td id=\"T_1964e_row8_col7\" class=\"data row8 col7\" >0.991283</td>\n",
       "      <td id=\"T_1964e_row8_col8\" class=\"data row8 col8\" >0.987893</td>\n",
       "      <td id=\"T_1964e_row8_col9\" class=\"data row8 col9\" >0.987893</td>\n",
       "      <td id=\"T_1964e_row8_col10\" class=\"data row8 col10\" >0.988257</td>\n",
       "      <td id=\"T_1964e_row8_col11\" class=\"data row8 col11\" >0.988015</td>\n",
       "      <td id=\"T_1964e_row8_col12\" class=\"data row8 col12\" >0.986804</td>\n",
       "    </tr>\n",
       "    <tr>\n",
       "      <th id=\"T_1964e_level0_row9\" class=\"row_heading level0 row9\" >average_precision_score</th>\n",
       "      <td id=\"T_1964e_row9_col0\" class=\"data row9 col0\" >0.991672</td>\n",
       "      <td id=\"T_1964e_row9_col1\" class=\"data row9 col1\" >0.991672</td>\n",
       "      <td id=\"T_1964e_row9_col2\" class=\"data row9 col2\" >0.992955</td>\n",
       "      <td id=\"T_1964e_row9_col3\" class=\"data row9 col3\" >0.992955</td>\n",
       "      <td id=\"T_1964e_row9_col4\" class=\"data row9 col4\" >0.994090</td>\n",
       "      <td id=\"T_1964e_row9_col5\" class=\"data row9 col5\" >0.986468</td>\n",
       "      <td id=\"T_1964e_row9_col6\" class=\"data row9 col6\" >0.990162</td>\n",
       "      <td id=\"T_1964e_row9_col7\" class=\"data row9 col7\" >0.994446</td>\n",
       "      <td id=\"T_1964e_row9_col8\" class=\"data row9 col8\" >0.991950</td>\n",
       "      <td id=\"T_1964e_row9_col9\" class=\"data row9 col9\" >0.991536</td>\n",
       "      <td id=\"T_1964e_row9_col10\" class=\"data row9 col10\" >0.991868</td>\n",
       "      <td id=\"T_1964e_row9_col11\" class=\"data row9 col11\" >0.991597</td>\n",
       "      <td id=\"T_1964e_row9_col12\" class=\"data row9 col12\" >0.991674</td>\n",
       "    </tr>\n",
       "  </tbody>\n",
       "</table>\n"
      ],
      "text/plain": [
       "<pandas.io.formats.style.Styler at 0x7fba992519d0>"
      ]
     },
     "execution_count": 13,
     "metadata": {},
     "output_type": "execute_result"
    }
   ],
   "source": [
    "classifiers, _ = report(X_train, y_train, X_test, y_test, classifier, classifier_w=classifier_w)\n",
    "_"
   ]
  },
  {
   "cell_type": "markdown",
   "id": "f872d1b8",
   "metadata": {},
   "source": [
    " "
   ]
  },
  {
   "cell_type": "code",
   "execution_count": 14,
   "id": "1c4158c2",
   "metadata": {},
   "outputs": [
    {
     "name": "stdout",
     "output_type": "stream",
     "text": [
      "Confusion matrix, without normalization\n",
      "[[ 65   5]\n",
      " [  8 110]]\n"
     ]
    },
    {
     "data": {
      "image/png": "[encoded data removed]",
      "text/plain": [
       "<Figure size 500x400 with 2 Axes>"
      ]
     },
     "metadata": {},
     "output_type": "display_data"
    }
   ],
   "source": [
    "plot_confusion_matrix(classifiers['Base'])"
   ]
  },
  {
   "cell_type": "markdown",
   "id": "77a399e1",
   "metadata": {},
   "source": [
    " "
   ]
  },
  {
   "cell_type": "code",
   "execution_count": 15,
   "id": "4526211d",
   "metadata": {},
   "outputs": [
    {
     "name": "stdout",
     "output_type": "stream",
     "text": [
      "Confusion matrix, without normalization\n",
      "[[ 65   5]\n",
      " [  8 110]]\n"
     ]
    },
    {
     "data": {
      "image/png": "[encoded data removed]",
      "text/plain": [
       "<Figure size 500x400 with 2 Axes>"
      ]
     },
     "metadata": {},
     "output_type": "display_data"
    }
   ],
   "source": [
    "plot_confusion_matrix(classifiers['ADASYN'])"
   ]
  },
  {
   "cell_type": "markdown",
   "id": "202f7869",
   "metadata": {},
   "source": [
    " "
   ]
  },
  {
   "cell_type": "code",
   "execution_count": 16,
   "id": "0f9e7767",
   "metadata": {},
   "outputs": [
    {
     "data": {
      "image/png": "[encoded data removed]",
      "text/plain": [
       "<Figure size 500x400 with 1 Axes>"
      ]
     },
     "metadata": {},
     "output_type": "display_data"
    }
   ],
   "source": [
    "plot_precision_recall(classifiers)"
   ]
  },
  {
   "cell_type": "markdown",
   "id": "1f5573d8",
   "metadata": {},
   "source": [
    " "
   ]
  },
  {
   "cell_type": "code",
   "execution_count": 17,
   "id": "d1435cef",
   "metadata": {},
   "outputs": [
    {
     "data": {
      "image/png": "[encoded data removed]",
      "text/plain": [
       "<Figure size 500x400 with 1 Axes>"
      ]
     },
     "metadata": {},
     "output_type": "display_data"
    }
   ],
   "source": [
    "plot_roc_curve(classifiers)"
   ]
  },
  {
   "cell_type": "markdown",
   "id": "78673c39",
   "metadata": {},
   "source": [
    " "
   ]
  },
  {
   "cell_type": "markdown",
   "id": "d85b22e9",
   "metadata": {},
   "source": [
    " "
   ]
  }
 ],
 "metadata": {
  "kernelspec": {
   "display_name": "Python 3 (ipykernel)",
   "language": "python",
   "name": "python3"
  },
  "language_info": {
   "codemirror_mode": {
    "name": "ipython",
    "version": 3
   },
   "file_extension": ".py",
   "mimetype": "text/x-python",
   "name": "python",
   "nbconvert_exporter": "python",
   "pygments_lexer": "ipython3",
   "version": "3.7.13"
  }
 },
 "nbformat": 4,
 "nbformat_minor": 5
}
